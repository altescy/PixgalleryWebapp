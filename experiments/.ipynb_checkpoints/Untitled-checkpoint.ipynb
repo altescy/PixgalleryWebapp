{
 "cells": [
  {
   "cell_type": "markdown",
   "metadata": {},
   "source": [
    "<br />\n",
    "\n",
    "<div style=\"text-align: center;\">\n",
    "<font size=\"7\">Image Search</font>\n",
    "</div>\n",
    "\n",
    "<br />"
   ]
  },
  {
   "cell_type": "code",
   "execution_count": 1,
   "metadata": {
    "collapsed": false
   },
   "outputs": [],
   "source": [
    "import numpy as np\n",
    "import scipy.io\n",
    "import json\n",
    "import pickle\n",
    "import chainer\n",
    "from chainer import Variable, Chain\n",
    "from chainer import links as L, functions as F\n",
    "from chainer import optimizers, serializers\n",
    "\n",
    "from VariableLengthUtils.RNN import BLSTM, LSTM\n",
    "from VariableLengthUtils.EmbedID import EmbedID\n",
    "from VariableLengthUtils.functions import batchsort"
   ]
  },
  {
   "cell_type": "markdown",
   "metadata": {},
   "source": [
    "# Prepare dataset\n",
    "## Raw data\n",
    "- dataset.json\n",
    "\n",
    "{dataset: ~,\n",
    " images: [ {filename : ~,\n",
    "            imgid    : ~,\n",
    "            sentences: [ {imgid : ~,\n",
    "                          raw   : ~,\n",
    "                          sentid: ~,\n",
    "                          tokens: [w1, w2, ...],\n",
    "                          },\n",
    "                          ~ (*5)\n",
    "                       ]\n",
    "             }\n",
    "             sentids : ~,\n",
    "             split   : ~,\n",
    "          ]\n",
    "}"
   ]
  },
  {
   "cell_type": "code",
   "execution_count": 6,
   "metadata": {
    "collapsed": false
   },
   "outputs": [],
   "source": [
    "datafile = 'data/flickr8k/dataset.json'\n",
    "\n",
    "with open(datafile, 'r') as f:\n",
    "    datas = json.load(f)['images']"
   ]
  },
  {
   "cell_type": "markdown",
   "metadata": {},
   "source": [
    "## Preprocess\n",
    "- トークンをidに変換．\n",
    "- max_wd_count 以下の出現回数の単語は\"unk\"とする．"
   ]
  },
  {
   "cell_type": "code",
   "execution_count": 7,
   "metadata": {
    "collapsed": false
   },
   "outputs": [],
   "source": [
    "idset = []\n",
    "wd2id = {'<bos>': 0,\n",
    "         '<eos>': 1,\n",
    "         '<unk>': 2,}\n",
    "count = {}\n",
    "\n",
    "max_wd_count = 5\n",
    "\n",
    "for data in datas:\n",
    "    for sentence in data['sentences']:\n",
    "        for wd in sentence['tokens']:\n",
    "            if wd not in count:\n",
    "                count[wd] = 0\n",
    "            count[wd] += 1\n",
    "\n",
    "for data in datas:\n",
    "    for sentence in data['sentences']:\n",
    "        sid = []\n",
    "        for wd in sentence['tokens']:\n",
    "            if count[wd] < max_wd_count:\n",
    "                sid.append(wd2id['<unk>'])\n",
    "            else:\n",
    "                if wd not in wd2id:\n",
    "                    wd2id[wd] = len(wd2id)\n",
    "                sid.append(wd2id[wd])\n",
    "        idset.append(sid)\n",
    "\n",
    "idset = [np.asarray(x_, dtype=np.int32) for x_ in idset]"
   ]
  },
  {
   "cell_type": "code",
   "execution_count": 8,
   "metadata": {
    "collapsed": false
   },
   "outputs": [],
   "source": [
    "idfile = 'data/flickr8k/idset.pkl'\n",
    "wd2idfile = 'data/flickr8k/wd2id.pkl'\n",
    "with open(idfile, 'wb') as f:\n",
    "    pickle.dump(idset, f)\n",
    "\n",
    "with open(wd2idfile, 'wb') as f:\n",
    "    pickle.dump(wd2id, f)"
   ]
  },
  {
   "cell_type": "markdown",
   "metadata": {},
   "source": [
    "## Load dataset\n",
    "- 前処理したデータを読み込む"
   ]
  },
  {
   "cell_type": "code",
   "execution_count": 2,
   "metadata": {
    "collapsed": true
   },
   "outputs": [],
   "source": [
    "idfile = 'data/flickr8k/idset.pkl'\n",
    "wd2idfile = 'data/flickr8k/wd2id.pkl'\n",
    "featfile = 'data/flickr8k/vgg_feats.mat'\n",
    "\n",
    "with open(idfile, 'rb') as f:\n",
    "    idset = pickle.load(f)\n",
    "\n",
    "with open(wd2idfile, 'rb') as f:\n",
    "    wd2id = pickle.load(f)\n",
    "\n",
    "feats = scipy.io.loadmat(featfile)['feats'].T"
   ]
  },
  {
   "cell_type": "markdown",
   "metadata": {},
   "source": [
    "# Model\n",
    "- キャプションからVGGの出力を学習する"
   ]
  },
  {
   "cell_type": "markdown",
   "metadata": {},
   "source": [
    "## Proposal model"
   ]
  },
  {
   "cell_type": "code",
   "execution_count": 3,
   "metadata": {
    "collapsed": true
   },
   "outputs": [],
   "source": [
    "class SentenceImager(Chain):\n",
    "    def __init__(self, in_size, out_size):\n",
    "        super().__init__(\n",
    "            embed = EmbedID(in_size, 512),\n",
    "            blstm = BLSTM(512, 512),\n",
    "            lstm  = LSTM(512, 1024),\n",
    "            l1    = L.Linear(1024, out_size)\n",
    "        )\n",
    "    \n",
    "    def __call__(self, x, train=True):\n",
    "        h = self.embed(x)\n",
    "        h = self.blstm(h)\n",
    "        h = F.dropout(self.lstm(h), train=train)\n",
    "        h = self.l1(h)\n",
    "        return h\n",
    "    \n",
    "    def reset_state(self):\n",
    "        self.blstm.reset_state()\n",
    "        self.lstm.reset_state()"
   ]
  },
  {
   "cell_type": "code",
   "execution_count": 4,
   "metadata": {
    "collapsed": false
   },
   "outputs": [
    {
     "data": {
      "text/plain": [
       "(20, 4096)"
      ]
     },
     "execution_count": 4,
     "metadata": {},
     "output_type": "execute_result"
    }
   ],
   "source": [
    "stimg = SentenceImager(len(wd2id), feats.shape[1])\n",
    "x = batchsort(idset)[:20]\n",
    "y = stimg(x)\n",
    "y.shape"
   ]
  },
  {
   "cell_type": "markdown",
   "metadata": {},
   "source": [
    "# Training"
   ]
  },
  {
   "cell_type": "code",
   "execution_count": null,
   "metadata": {
    "collapsed": true
   },
   "outputs": [],
   "source": []
  }
 ],
 "metadata": {
  "kernelspec": {
   "display_name": "Python 3",
   "language": "python",
   "name": "python3"
  },
  "language_info": {
   "codemirror_mode": {
    "name": "ipython",
    "version": 3
   },
   "file_extension": ".py",
   "mimetype": "text/x-python",
   "name": "python",
   "nbconvert_exporter": "python",
   "pygments_lexer": "ipython3",
   "version": "3.6.0"
  },
  "latex_envs": {
   "LaTeX_envs_menu_present": true,
   "bibliofile": "biblio.bib",
   "cite_by": "apalike",
   "current_citInitial": 1,
   "eqLabelWithNumbers": true,
   "eqNumInitial": 1,
   "hotkeys": {
    "equation": "Ctrl-E",
    "itemize": "Ctrl-I"
   },
   "labels_anchors": false,
   "latex_user_defs": false,
   "report_style_numbering": false,
   "user_envs_cfg": false
  },
  "toc": {
   "colors": {
    "hover_highlight": "#DAA520",
    "running_highlight": "#FF0000",
    "selected_highlight": "#FFD700"
   },
   "moveMenuLeft": true,
   "nav_menu": {
    "height": "138px",
    "width": "252px"
   },
   "navigate_menu": true,
   "number_sections": true,
   "sideBar": true,
   "threshold": 4,
   "toc_cell": false,
   "toc_section_display": "block",
   "toc_window_display": false
  }
 },
 "nbformat": 4,
 "nbformat_minor": 2
}
