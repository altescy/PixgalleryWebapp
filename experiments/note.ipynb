{
 "cells": [
  {
   "cell_type": "markdown",
   "metadata": {},
   "source": [
    "<br />\n",
    "\n",
    "<div style=\"text-align: center;\">\n",
    "<font size=\"7\">Image Search</font>\n",
    "</div>\n",
    "\n",
    "<br />"
   ]
  },
  {
   "cell_type": "code",
   "execution_count": 1,
   "metadata": {
    "collapsed": false
   },
   "outputs": [],
   "source": [
    "import os\n",
    "import numpy as np\n",
    "import scipy.io\n",
    "import json\n",
    "import pickle\n",
    "import chainer\n",
    "from chainer import Variable, Chain\n",
    "from chainer import links as L, functions as F\n",
    "from chainer import optimizers, serializers\n",
    "\n",
    "import matplotlib.pyplot as plt\n",
    "%matplotlib inline\n",
    "\n",
    "from ipywidgets import FloatProgress\n",
    "from IPython.display import display\n",
    "\n",
    "from VariableLengthUtils.RNN import BLSTM, LSTM\n",
    "from VariableLengthUtils.EmbedID import EmbedID\n",
    "from VariableLengthUtils.functions import batchsort"
   ]
  },
  {
   "cell_type": "markdown",
   "metadata": {},
   "source": [
    "# Prepare dataset"
   ]
  },
  {
   "cell_type": "markdown",
   "metadata": {},
   "source": [
    "## Raw dataset\n",
    "- Download datasets from here: http://cs.stanford.edu/people/karpathy/deepimagesent/\n",
    "- Extract the downloaded file to ../data/"
   ]
  },
  {
   "cell_type": "code",
   "execution_count": 2,
   "metadata": {
    "collapsed": false
   },
   "outputs": [],
   "source": [
    "datafile = 'data/flickr8k/dataset.json'\n",
    "\n",
    "with open(datafile, 'r') as f:\n",
    "    datas = json.load(f)['images']"
   ]
  },
  {
   "cell_type": "markdown",
   "metadata": {},
   "source": [
    "## Preprocess\n",
    "- convert token into ID\n",
    "- length of idset array is 8000 * 5 = 40000\n",
    "- captions of a image data with $imgid$ are $idset\\left[imgid * 5:imgid * 5 + 5\\right]$"
   ]
  },
  {
   "cell_type": "code",
   "execution_count": 3,
   "metadata": {
    "collapsed": false
   },
   "outputs": [],
   "source": [
    "idset = []\n",
    "wd2id = {'<bos>': 0,\n",
    "         '<eos>': 1,\n",
    "         '<unk>': 2,}\n",
    "count = {}\n",
    "\n",
    "max_wd_count = 5 # if #occurrences of a token is less than it,\n",
    "                 #              convert the token into <unk>.\n",
    "\n",
    "for data in datas:\n",
    "    for sentence in data['sentences']:\n",
    "        for wd in sentence['tokens']:\n",
    "            if wd not in count:\n",
    "                count[wd] = 0\n",
    "            count[wd] += 1\n",
    "\n",
    "for data in datas:\n",
    "    for sentence in data['sentences']:\n",
    "        sid = []\n",
    "        for wd in sentence['tokens']:\n",
    "            if count[wd] < max_wd_count:\n",
    "                sid.append(wd2id['<unk>'])\n",
    "            else:\n",
    "                if wd not in wd2id:\n",
    "                    wd2id[wd] = len(wd2id)\n",
    "                sid.append(wd2id[wd])\n",
    "        idset.append(sid)\n",
    "\n",
    "idset = [np.asarray(x_, dtype=np.int32) for x_ in idset]"
   ]
  },
  {
   "cell_type": "code",
   "execution_count": 4,
   "metadata": {
    "collapsed": false
   },
   "outputs": [],
   "source": [
    "# save converted dataset\n",
    "idfile = 'data/flickr8k/idset.pkl'\n",
    "wd2idfile = 'data/flickr8k/wd2id.pkl'\n",
    "with open(idfile, 'wb') as f:\n",
    "    pickle.dump(idset, f)\n",
    "\n",
    "with open(wd2idfile, 'wb') as f:\n",
    "    pickle.dump(wd2id, f)"
   ]
  },
  {
   "cell_type": "markdown",
   "metadata": {},
   "source": [
    "## Load dataset\n",
    "- Load preprocessed data"
   ]
  },
  {
   "cell_type": "code",
   "execution_count": 2,
   "metadata": {
    "collapsed": true
   },
   "outputs": [],
   "source": [
    "idfile = 'data/flickr8k/idset.pkl'\n",
    "wd2idfile = 'data/flickr8k/wd2id.pkl'\n",
    "featfile = 'data/flickr8k/vgg_feats.mat'\n",
    "\n",
    "with open(idfile, 'rb') as f:\n",
    "    idset = pickle.load(f)\n",
    "\n",
    "with open(wd2idfile, 'rb') as f:\n",
    "    wd2id = pickle.load(f)\n",
    "\n",
    "feats_ = scipy.io.loadmat(featfile)['feats'].T\n",
    "feats = feats_.repeat(5, axis=0)"
   ]
  },
  {
   "cell_type": "markdown",
   "metadata": {},
   "source": [
    "# Model\n",
    "- Embed sentence into the same feature space as image."
   ]
  },
  {
   "cell_type": "markdown",
   "metadata": {},
   "source": [
    "## Simple LSTM model"
   ]
  },
  {
   "cell_type": "code",
   "execution_count": 3,
   "metadata": {
    "collapsed": true
   },
   "outputs": [],
   "source": [
    "class LSTMEmbed(Chain):\n",
    "    def __init__(self, in_size, out_size, train=True):\n",
    "        super().__init__(\n",
    "            embed=L.EmbedID(in_size, 512),\n",
    "            lstm=L.LSTM(512, 512),\n",
    "            out=L.Linear(512, out_size)\n",
    "        )\n",
    "        self.train = train\n",
    "    \n",
    "    def __call__(self, x):\n",
    "        x = F.transpose_sequence(x)\n",
    "        for x_ in x:\n",
    "            self.lstm(F.dropout(self.embed(x_), train=self.train))\n",
    "        h = self.out(F.dropout(self.lstm.h, train=self.train))\n",
    "        return h\n",
    "    \n",
    "    def reset_state(self):\n",
    "        self.lstm.reset_state()"
   ]
  },
  {
   "cell_type": "code",
   "execution_count": 4,
   "metadata": {
    "collapsed": false
   },
   "outputs": [
    {
     "data": {
      "text/plain": [
       "(20, 4096)"
      ]
     },
     "execution_count": 4,
     "metadata": {},
     "output_type": "execute_result"
    }
   ],
   "source": [
    "imgembed = LSTMEmbed(len(wd2id), feats.shape[1])\n",
    "x = batchsort(idset)[:20]\n",
    "y = imgembed(x)\n",
    "y.shape"
   ]
  },
  {
   "cell_type": "markdown",
   "metadata": {},
   "source": [
    "## BiLSTM model"
   ]
  },
  {
   "cell_type": "code",
   "execution_count": 5,
   "metadata": {
    "collapsed": true
   },
   "outputs": [],
   "source": [
    "class ImgEmbed(Chain):\n",
    "    def __init__(self, in_size, out_size, train=True):\n",
    "        super().__init__(\n",
    "            embed = EmbedID(in_size, 512),\n",
    "            blstm = BLSTM(512, 512),\n",
    "            lstm  = LSTM(512, 1024),\n",
    "            out   = L.Linear(1024, out_size)\n",
    "        )\n",
    "        self.train = train\n",
    "    \n",
    "    def __call__(self, x):\n",
    "        h = self.embed(x, dropout=self.train)\n",
    "        h = self.blstm(h)\n",
    "        h= self.lstm(h)\n",
    "        h = self.out(F.dropout(h, train=self.train))\n",
    "        return h\n",
    "    \n",
    "    def reset_state(self):\n",
    "        self.blstm.reset_state()\n",
    "        self.lstm.reset_state()"
   ]
  },
  {
   "cell_type": "code",
   "execution_count": 6,
   "metadata": {
    "collapsed": false
   },
   "outputs": [
    {
     "data": {
      "text/plain": [
       "(20, 4096)"
      ]
     },
     "execution_count": 6,
     "metadata": {},
     "output_type": "execute_result"
    }
   ],
   "source": [
    "imgembed = ImgEmbed(len(wd2id), feats.shape[1])\n",
    "x = batchsort(idset)[:20]\n",
    "y = imgembed(x)\n",
    "y.shape"
   ]
  },
  {
   "cell_type": "markdown",
   "metadata": {},
   "source": [
    "# Training"
   ]
  },
  {
   "cell_type": "markdown",
   "metadata": {},
   "source": [
    "## Setup model"
   ]
  },
  {
   "cell_type": "code",
   "execution_count": 7,
   "metadata": {
    "collapsed": true
   },
   "outputs": [],
   "source": [
    "n_data = len(idset)\n",
    "n_vocab = len(wd2id)\n",
    "\n",
    "n_epochs = 200\n",
    "batchsize = 100\n",
    "\n",
    "save_cycle = 20\n",
    "save_dir = './model/lstmembed_4096'\n",
    "model_name = 'model_{}epoch.npz'\n",
    "optim_name = 'optim_{}epoch.npz'"
   ]
  },
  {
   "cell_type": "code",
   "execution_count": 8,
   "metadata": {
    "collapsed": false
   },
   "outputs": [],
   "source": [
    "model = LSTMEmbed(n_vocab, feats.shape[1])\n",
    "\n",
    "optimizer = optimizers.Adam()\n",
    "optimizer.setup(model)"
   ]
  },
  {
   "cell_type": "markdown",
   "metadata": {},
   "source": [
    "## Train"
   ]
  },
  {
   "cell_type": "code",
   "execution_count": 9,
   "metadata": {
    "collapsed": true
   },
   "outputs": [
    {
     "name": "stdout",
     "output_type": "stream",
     "text": [
      "epoch 1: loss = 1.05745267868042\n",
      "epoch 2: loss = 1.0224376916885376\n",
      "epoch 3: loss = 1.0450522899627686\n",
      "epoch 4: loss = 1.0502630472183228\n",
      "epoch 5: loss = 0.9869892597198486\n",
      "epoch 6: loss = 0.9716061949729919\n",
      "epoch 7: loss = 0.9330874085426331\n",
      "epoch 8: loss = 0.9541282057762146\n",
      "epoch 9: loss = 0.9190133810043335\n",
      "epoch 10: loss = 0.9376640319824219\n",
      "epoch 11: loss = 0.9843006134033203\n",
      "epoch 12: loss = 1.004133939743042\n",
      "epoch 13: loss = 0.9328920841217041\n",
      "epoch 14: loss = 0.9882013201713562\n",
      "epoch 15: loss = 0.9031590223312378\n",
      "epoch 16: loss = 0.9104897975921631\n",
      "epoch 17: loss = 0.9436786770820618\n",
      "epoch 18: loss = 0.8794094324111938\n",
      "epoch 19: loss = 0.9833486676216125\n",
      "epoch 20: loss = 0.9442304968833923\n",
      "save model and optimizer: ./model/lstmembed_4096model_20epoch.npz, ./model/lstmembed_4096optim_20epoch.npz\n",
      "epoch 21: loss = 0.9449388384819031\n",
      "epoch 22: loss = 0.9603814482688904\n",
      "epoch 23: loss = 0.8824542760848999\n",
      "epoch 24: loss = 0.9276063442230225\n",
      "epoch 25: loss = 0.8549638390541077\n",
      "epoch 26: loss = 0.910157322883606\n",
      "epoch 27: loss = 0.8401604294776917\n",
      "epoch 28: loss = 0.9415046572685242\n",
      "epoch 29: loss = 0.9226863384246826\n",
      "epoch 30: loss = 0.9018661975860596\n",
      "epoch 31: loss = 0.9127453565597534\n",
      "epoch 32: loss = 0.930210292339325\n",
      "epoch 33: loss = 0.9401302933692932\n",
      "epoch 34: loss = 0.8972790241241455\n",
      "epoch 35: loss = 0.879225492477417\n",
      "epoch 36: loss = 0.9554954767227173\n",
      "epoch 37: loss = 0.9175354242324829\n",
      "epoch 38: loss = 0.9064090847969055\n",
      "epoch 39: loss = 0.8681957721710205\n",
      "epoch 40: loss = 0.9106423258781433\n",
      "save model and optimizer: ./model/lstmembed_4096model_40epoch.npz, ./model/lstmembed_4096optim_40epoch.npz\n",
      "epoch 41: loss = 0.8663493394851685\n",
      "epoch 42: loss = 0.9015055894851685\n",
      "epoch 43: loss = 0.9081671237945557\n",
      "epoch 44: loss = 0.8764761090278625\n",
      "epoch 45: loss = 0.8719141483306885\n",
      "epoch 46: loss = 0.8902848958969116\n",
      "epoch 47: loss = 0.8869184851646423\n",
      "epoch 48: loss = 0.8763455152511597\n",
      "epoch 49: loss = 0.8529303669929504\n",
      "epoch 50: loss = 0.9042905569076538\n",
      "epoch 51: loss = 0.8542109727859497\n",
      "epoch 52: loss = 0.9420920014381409\n",
      "epoch 53: loss = 0.8582442998886108\n",
      "epoch 54: loss = 0.9092172980308533\n",
      "epoch 55: loss = 0.9554873108863831\n",
      "epoch 56: loss = 0.8461298942565918\n",
      "epoch 57: loss = 0.8955422043800354\n",
      "epoch 58: loss = 0.879911482334137\n",
      "epoch 59: loss = 0.8509719371795654\n",
      "epoch 60: loss = 0.8948214650154114\n",
      "save model and optimizer: ./model/lstmembed_4096model_60epoch.npz, ./model/lstmembed_4096optim_60epoch.npz\n",
      "epoch 61: loss = 0.834658145904541\n",
      "epoch 62: loss = 0.8831868767738342\n",
      "epoch 63: loss = 0.9038601517677307\n",
      "epoch 64: loss = 0.8825930953025818\n",
      "epoch 65: loss = 0.9120773077011108\n",
      "epoch 66: loss = 0.932533860206604\n",
      "epoch 67: loss = 0.9117560386657715\n",
      "epoch 68: loss = 0.9371777176856995\n",
      "epoch 69: loss = 0.887125551700592\n",
      "epoch 70: loss = 0.8663633465766907\n",
      "epoch 71: loss = 0.8530285358428955\n",
      "epoch 72: loss = 0.854083240032196\n",
      "epoch 73: loss = 0.8699300289154053\n",
      "epoch 74: loss = 0.8818994164466858\n",
      "epoch 75: loss = 0.8916366100311279\n",
      "epoch 76: loss = 0.8831716775894165\n",
      "epoch 77: loss = 0.8864238262176514\n",
      "epoch 78: loss = 0.897818922996521\n",
      "epoch 79: loss = 0.836716890335083\n",
      "epoch 80: loss = 0.8938852548599243\n",
      "save model and optimizer: ./model/lstmembed_4096model_80epoch.npz, ./model/lstmembed_4096optim_80epoch.npz\n",
      "epoch 81: loss = 0.8906568288803101\n",
      "epoch 82: loss = 0.859404444694519\n",
      "epoch 83: loss = 0.8779836893081665\n",
      "epoch 84: loss = 0.9011788368225098\n",
      "epoch 85: loss = 0.8823486566543579\n",
      "epoch 86: loss = 0.8231448531150818\n",
      "epoch 87: loss = 0.8516406416893005\n",
      "epoch 88: loss = 0.8550471663475037\n",
      "epoch 89: loss = 0.8377179503440857\n",
      "epoch 90: loss = 0.925771951675415\n",
      "epoch 91: loss = 0.8562597632408142\n",
      "epoch 92: loss = 0.8712000250816345\n",
      "epoch 93: loss = 0.8768215179443359\n",
      "epoch 94: loss = 0.8568667769432068\n",
      "epoch 95: loss = 0.8439235091209412\n",
      "epoch 96: loss = 0.8832260370254517\n",
      "epoch 97: loss = 0.8333010673522949\n",
      "epoch 98: loss = 0.8327341675758362\n",
      "epoch 99: loss = 0.8512321710586548\n",
      "epoch 100: loss = 0.8501666188240051\n",
      "save model and optimizer: ./model/lstmembed_4096model_100epoch.npz, ./model/lstmembed_4096optim_100epoch.npz\n",
      "epoch 101: loss = 0.8205353021621704\n",
      "epoch 102: loss = 0.9052215814590454\n",
      "epoch 103: loss = 0.8819341063499451\n",
      "epoch 104: loss = 0.8238359093666077\n",
      "epoch 105: loss = 0.8914127945899963\n",
      "epoch 106: loss = 0.8102476596832275\n",
      "epoch 107: loss = 0.8606783151626587\n",
      "epoch 108: loss = 0.8848544955253601\n",
      "epoch 109: loss = 0.8508115410804749\n",
      "epoch 110: loss = 0.8219041228294373\n",
      "epoch 111: loss = 0.8207758069038391\n",
      "epoch 112: loss = 0.8871403336524963\n",
      "epoch 113: loss = 0.846904456615448\n",
      "epoch 114: loss = 0.8213819265365601\n",
      "epoch 115: loss = 0.8417928218841553\n",
      "epoch 116: loss = 0.854230523109436\n",
      "epoch 117: loss = 0.8535377383232117\n",
      "epoch 118: loss = 0.8889399170875549\n",
      "epoch 119: loss = 0.8961206078529358\n",
      "epoch 120: loss = 0.896186113357544\n",
      "save model and optimizer: ./model/lstmembed_4096model_120epoch.npz, ./model/lstmembed_4096optim_120epoch.npz\n",
      "epoch 121: loss = 0.8255100846290588\n",
      "epoch 122: loss = 0.8631698489189148\n",
      "epoch 123: loss = 0.8037741780281067\n",
      "epoch 124: loss = 0.8496730923652649\n",
      "epoch 125: loss = 0.8380878567695618\n",
      "epoch 126: loss = 0.7926977276802063\n",
      "epoch 127: loss = 0.8572050333023071\n",
      "epoch 128: loss = 0.8122131824493408\n",
      "epoch 129: loss = 0.8534718155860901\n",
      "epoch 130: loss = 0.8295732736587524\n",
      "epoch 131: loss = 0.8909835815429688\n",
      "epoch 132: loss = 0.8607824444770813\n",
      "epoch 133: loss = 0.8024955987930298\n",
      "epoch 134: loss = 0.8714247941970825\n",
      "epoch 135: loss = 0.8653761148452759\n",
      "epoch 136: loss = 0.8590958118438721\n",
      "epoch 137: loss = 0.8741341233253479\n",
      "epoch 138: loss = 0.872151255607605\n",
      "epoch 139: loss = 0.8649746179580688\n",
      "epoch 140: loss = 0.8278487920761108\n",
      "save model and optimizer: ./model/lstmembed_4096model_140epoch.npz, ./model/lstmembed_4096optim_140epoch.npz\n",
      "epoch 141: loss = 0.8682284355163574\n",
      "epoch 142: loss = 0.8388367295265198\n",
      "epoch 143: loss = 0.8694571852684021\n",
      "epoch 144: loss = 0.8661242723464966\n",
      "epoch 145: loss = 0.873826801776886\n",
      "epoch 146: loss = 0.8578050136566162\n",
      "epoch 147: loss = 0.8714956045150757\n",
      "epoch 148: loss = 0.7811447381973267\n",
      "epoch 149: loss = 0.851574182510376\n",
      "epoch 150: loss = 0.8395366072654724\n",
      "epoch 151: loss = 0.8300533890724182\n",
      "epoch 152: loss = 0.8795498013496399\n",
      "epoch 153: loss = 0.8286876678466797\n",
      "epoch 154: loss = 0.8124926686286926\n",
      "epoch 155: loss = 0.8394322991371155\n",
      "epoch 156: loss = 0.8466914892196655\n",
      "epoch 157: loss = 0.8892788887023926\n",
      "epoch 158: loss = 0.8238939046859741\n",
      "epoch 159: loss = 0.83935546875\n",
      "epoch 160: loss = 0.8071231245994568\n",
      "save model and optimizer: ./model/lstmembed_4096model_160epoch.npz, ./model/lstmembed_4096optim_160epoch.npz\n",
      "epoch 161: loss = 0.8488487005233765\n"
     ]
    },
    {
     "ename": "KeyboardInterrupt",
     "evalue": "",
     "output_type": "error",
     "traceback": [
      "\u001b[0;31m---------------------------------------------------------------------------\u001b[0m",
      "\u001b[0;31mKeyboardInterrupt\u001b[0m                         Traceback (most recent call last)",
      "\u001b[0;32m<ipython-input-9-1a93b4cf604c>\u001b[0m in \u001b[0;36m<module>\u001b[0;34m()\u001b[0m\n\u001b[1;32m     12\u001b[0m \u001b[0;34m\u001b[0m\u001b[0m\n\u001b[1;32m     13\u001b[0m         \u001b[0mmodel\u001b[0m\u001b[0;34m.\u001b[0m\u001b[0mreset_state\u001b[0m\u001b[0;34m(\u001b[0m\u001b[0;34m)\u001b[0m\u001b[0;34m\u001b[0m\u001b[0m\n\u001b[0;32m---> 14\u001b[0;31m         \u001b[0mloss\u001b[0m \u001b[0;34m=\u001b[0m \u001b[0mF\u001b[0m\u001b[0;34m.\u001b[0m\u001b[0mmean_squared_error\u001b[0m\u001b[0;34m(\u001b[0m\u001b[0mmodel\u001b[0m\u001b[0;34m(\u001b[0m\u001b[0mx_batch\u001b[0m\u001b[0;34m)\u001b[0m\u001b[0;34m,\u001b[0m \u001b[0my_batch\u001b[0m\u001b[0;34m)\u001b[0m\u001b[0;34m\u001b[0m\u001b[0m\n\u001b[0m\u001b[1;32m     15\u001b[0m \u001b[0;34m\u001b[0m\u001b[0m\n\u001b[1;32m     16\u001b[0m         \u001b[0mmodel\u001b[0m\u001b[0;34m.\u001b[0m\u001b[0mcleargrads\u001b[0m\u001b[0;34m(\u001b[0m\u001b[0;34m)\u001b[0m\u001b[0;34m\u001b[0m\u001b[0m\n",
      "\u001b[0;32m<ipython-input-3-e9fd4058c203>\u001b[0m in \u001b[0;36m__call__\u001b[0;34m(self, x)\u001b[0m\n\u001b[1;32m     11\u001b[0m         \u001b[0mx\u001b[0m \u001b[0;34m=\u001b[0m \u001b[0mF\u001b[0m\u001b[0;34m.\u001b[0m\u001b[0mtranspose_sequence\u001b[0m\u001b[0;34m(\u001b[0m\u001b[0mx\u001b[0m\u001b[0;34m)\u001b[0m\u001b[0;34m\u001b[0m\u001b[0m\n\u001b[1;32m     12\u001b[0m         \u001b[0;32mfor\u001b[0m \u001b[0mx_\u001b[0m \u001b[0;32min\u001b[0m \u001b[0mx\u001b[0m\u001b[0;34m:\u001b[0m\u001b[0;34m\u001b[0m\u001b[0m\n\u001b[0;32m---> 13\u001b[0;31m             \u001b[0mself\u001b[0m\u001b[0;34m.\u001b[0m\u001b[0mlstm\u001b[0m\u001b[0;34m(\u001b[0m\u001b[0mF\u001b[0m\u001b[0;34m.\u001b[0m\u001b[0mdropout\u001b[0m\u001b[0;34m(\u001b[0m\u001b[0mself\u001b[0m\u001b[0;34m.\u001b[0m\u001b[0membed\u001b[0m\u001b[0;34m(\u001b[0m\u001b[0mx_\u001b[0m\u001b[0;34m)\u001b[0m\u001b[0;34m,\u001b[0m \u001b[0mtrain\u001b[0m\u001b[0;34m=\u001b[0m\u001b[0mself\u001b[0m\u001b[0;34m.\u001b[0m\u001b[0mtrain\u001b[0m\u001b[0;34m)\u001b[0m\u001b[0;34m)\u001b[0m\u001b[0;34m\u001b[0m\u001b[0m\n\u001b[0m\u001b[1;32m     14\u001b[0m         \u001b[0mh\u001b[0m \u001b[0;34m=\u001b[0m \u001b[0mself\u001b[0m\u001b[0;34m.\u001b[0m\u001b[0mout\u001b[0m\u001b[0;34m(\u001b[0m\u001b[0mF\u001b[0m\u001b[0;34m.\u001b[0m\u001b[0mdropout\u001b[0m\u001b[0;34m(\u001b[0m\u001b[0mself\u001b[0m\u001b[0;34m.\u001b[0m\u001b[0mlstm\u001b[0m\u001b[0;34m.\u001b[0m\u001b[0mh\u001b[0m\u001b[0;34m,\u001b[0m \u001b[0mtrain\u001b[0m\u001b[0;34m=\u001b[0m\u001b[0mself\u001b[0m\u001b[0;34m.\u001b[0m\u001b[0mtrain\u001b[0m\u001b[0;34m)\u001b[0m\u001b[0;34m)\u001b[0m\u001b[0;34m\u001b[0m\u001b[0m\n\u001b[1;32m     15\u001b[0m         \u001b[0;32mreturn\u001b[0m \u001b[0mh\u001b[0m\u001b[0;34m\u001b[0m\u001b[0m\n",
      "\u001b[0;32m/home/altescy/.pyenv/versions/anaconda3-4.3.0/lib/python3.6/site-packages/chainer/links/connection/lstm.py\u001b[0m in \u001b[0;36m__call__\u001b[0;34m(self, x)\u001b[0m\n\u001b[1;32m    248\u001b[0m                     \u001b[0mxp\u001b[0m\u001b[0;34m.\u001b[0m\u001b[0mzeros\u001b[0m\u001b[0;34m(\u001b[0m\u001b[0;34m(\u001b[0m\u001b[0mbatch\u001b[0m\u001b[0;34m,\u001b[0m \u001b[0mself\u001b[0m\u001b[0;34m.\u001b[0m\u001b[0mstate_size\u001b[0m\u001b[0;34m)\u001b[0m\u001b[0;34m,\u001b[0m \u001b[0mdtype\u001b[0m\u001b[0;34m=\u001b[0m\u001b[0mx\u001b[0m\u001b[0;34m.\u001b[0m\u001b[0mdtype\u001b[0m\u001b[0;34m)\u001b[0m\u001b[0;34m,\u001b[0m\u001b[0;34m\u001b[0m\u001b[0m\n\u001b[1;32m    249\u001b[0m                     volatile='auto')\n\u001b[0;32m--> 250\u001b[0;31m         \u001b[0mself\u001b[0m\u001b[0;34m.\u001b[0m\u001b[0mc\u001b[0m\u001b[0;34m,\u001b[0m \u001b[0my\u001b[0m \u001b[0;34m=\u001b[0m \u001b[0mlstm\u001b[0m\u001b[0;34m.\u001b[0m\u001b[0mlstm\u001b[0m\u001b[0;34m(\u001b[0m\u001b[0mself\u001b[0m\u001b[0;34m.\u001b[0m\u001b[0mc\u001b[0m\u001b[0;34m,\u001b[0m \u001b[0mlstm_in\u001b[0m\u001b[0;34m)\u001b[0m\u001b[0;34m\u001b[0m\u001b[0m\n\u001b[0m\u001b[1;32m    251\u001b[0m \u001b[0;34m\u001b[0m\u001b[0m\n\u001b[1;32m    252\u001b[0m         \u001b[0;32mif\u001b[0m \u001b[0mh_rest\u001b[0m \u001b[0;32mis\u001b[0m \u001b[0;32mNone\u001b[0m\u001b[0;34m:\u001b[0m\u001b[0;34m\u001b[0m\u001b[0m\n",
      "\u001b[0;32m/home/altescy/.pyenv/versions/anaconda3-4.3.0/lib/python3.6/site-packages/chainer/functions/activation/lstm.py\u001b[0m in \u001b[0;36mlstm\u001b[0;34m(c_prev, x)\u001b[0m\n\u001b[1;32m    226\u001b[0m \u001b[0;34m\u001b[0m\u001b[0m\n\u001b[1;32m    227\u001b[0m     \"\"\"\n\u001b[0;32m--> 228\u001b[0;31m     \u001b[0;32mreturn\u001b[0m \u001b[0mLSTM\u001b[0m\u001b[0;34m(\u001b[0m\u001b[0;34m)\u001b[0m\u001b[0;34m(\u001b[0m\u001b[0mc_prev\u001b[0m\u001b[0;34m,\u001b[0m \u001b[0mx\u001b[0m\u001b[0;34m)\u001b[0m\u001b[0;34m\u001b[0m\u001b[0m\n\u001b[0m",
      "\u001b[0;32m/home/altescy/.pyenv/versions/anaconda3-4.3.0/lib/python3.6/site-packages/chainer/function.py\u001b[0m in \u001b[0;36m__call__\u001b[0;34m(self, *inputs)\u001b[0m\n\u001b[1;32m    197\u001b[0m         \u001b[0;31m# Forward prop\u001b[0m\u001b[0;34m\u001b[0m\u001b[0;34m\u001b[0m\u001b[0m\n\u001b[1;32m    198\u001b[0m         \u001b[0;32mwith\u001b[0m \u001b[0mcuda\u001b[0m\u001b[0;34m.\u001b[0m\u001b[0mget_device\u001b[0m\u001b[0;34m(\u001b[0m\u001b[0;34m*\u001b[0m\u001b[0min_data\u001b[0m\u001b[0;34m)\u001b[0m\u001b[0;34m:\u001b[0m\u001b[0;34m\u001b[0m\u001b[0m\n\u001b[0;32m--> 199\u001b[0;31m             \u001b[0moutputs\u001b[0m \u001b[0;34m=\u001b[0m \u001b[0mself\u001b[0m\u001b[0;34m.\u001b[0m\u001b[0mforward\u001b[0m\u001b[0;34m(\u001b[0m\u001b[0min_data\u001b[0m\u001b[0;34m)\u001b[0m\u001b[0;34m\u001b[0m\u001b[0m\n\u001b[0m\u001b[1;32m    200\u001b[0m             \u001b[0;32massert\u001b[0m \u001b[0mtype\u001b[0m\u001b[0;34m(\u001b[0m\u001b[0moutputs\u001b[0m\u001b[0;34m)\u001b[0m \u001b[0;34m==\u001b[0m \u001b[0mtuple\u001b[0m\u001b[0;34m\u001b[0m\u001b[0m\n\u001b[1;32m    201\u001b[0m         \u001b[0;32mfor\u001b[0m \u001b[0mhook\u001b[0m \u001b[0;32min\u001b[0m \u001b[0msix\u001b[0m\u001b[0;34m.\u001b[0m\u001b[0mitervalues\u001b[0m\u001b[0;34m(\u001b[0m\u001b[0mhooks\u001b[0m\u001b[0;34m)\u001b[0m\u001b[0;34m:\u001b[0m\u001b[0;34m\u001b[0m\u001b[0m\n",
      "\u001b[0;32m/home/altescy/.pyenv/versions/anaconda3-4.3.0/lib/python3.6/site-packages/chainer/functions/activation/lstm.py\u001b[0m in \u001b[0;36mforward\u001b[0;34m(self, inputs)\u001b[0m\n\u001b[1;32m     77\u001b[0m             \u001b[0mself\u001b[0m\u001b[0;34m.\u001b[0m\u001b[0mi\u001b[0m \u001b[0;34m=\u001b[0m \u001b[0m_sigmoid\u001b[0m\u001b[0;34m(\u001b[0m\u001b[0mi\u001b[0m\u001b[0;34m)\u001b[0m\u001b[0;34m\u001b[0m\u001b[0m\n\u001b[1;32m     78\u001b[0m             \u001b[0mself\u001b[0m\u001b[0;34m.\u001b[0m\u001b[0mf\u001b[0m \u001b[0;34m=\u001b[0m \u001b[0m_sigmoid\u001b[0m\u001b[0;34m(\u001b[0m\u001b[0mf\u001b[0m\u001b[0;34m)\u001b[0m\u001b[0;34m\u001b[0m\u001b[0m\n\u001b[0;32m---> 79\u001b[0;31m             \u001b[0mself\u001b[0m\u001b[0;34m.\u001b[0m\u001b[0mo\u001b[0m \u001b[0;34m=\u001b[0m \u001b[0m_sigmoid\u001b[0m\u001b[0;34m(\u001b[0m\u001b[0mo\u001b[0m\u001b[0;34m)\u001b[0m\u001b[0;34m\u001b[0m\u001b[0m\n\u001b[0m\u001b[1;32m     80\u001b[0m \u001b[0;34m\u001b[0m\u001b[0m\n\u001b[1;32m     81\u001b[0m             \u001b[0mc_next\u001b[0m \u001b[0;34m=\u001b[0m \u001b[0mnumpy\u001b[0m\u001b[0;34m.\u001b[0m\u001b[0mempty_like\u001b[0m\u001b[0;34m(\u001b[0m\u001b[0mc_prev\u001b[0m\u001b[0;34m)\u001b[0m\u001b[0;34m\u001b[0m\u001b[0m\n",
      "\u001b[0;32m/home/altescy/.pyenv/versions/anaconda3-4.3.0/lib/python3.6/site-packages/chainer/functions/activation/lstm.py\u001b[0m in \u001b[0;36m_sigmoid\u001b[0;34m(x)\u001b[0m\n\u001b[1;32m     14\u001b[0m \u001b[0;32mdef\u001b[0m \u001b[0m_sigmoid\u001b[0m\u001b[0;34m(\u001b[0m\u001b[0mx\u001b[0m\u001b[0;34m)\u001b[0m\u001b[0;34m:\u001b[0m\u001b[0;34m\u001b[0m\u001b[0m\n\u001b[1;32m     15\u001b[0m     \u001b[0mhalf\u001b[0m \u001b[0;34m=\u001b[0m \u001b[0mx\u001b[0m\u001b[0;34m.\u001b[0m\u001b[0mdtype\u001b[0m\u001b[0;34m.\u001b[0m\u001b[0mtype\u001b[0m\u001b[0;34m(\u001b[0m\u001b[0;36m0.5\u001b[0m\u001b[0;34m)\u001b[0m\u001b[0;34m\u001b[0m\u001b[0m\n\u001b[0;32m---> 16\u001b[0;31m     \u001b[0;32mreturn\u001b[0m \u001b[0mnumpy\u001b[0m\u001b[0;34m.\u001b[0m\u001b[0mtanh\u001b[0m\u001b[0;34m(\u001b[0m\u001b[0mx\u001b[0m \u001b[0;34m*\u001b[0m \u001b[0mhalf\u001b[0m\u001b[0;34m)\u001b[0m \u001b[0;34m*\u001b[0m \u001b[0mhalf\u001b[0m \u001b[0;34m+\u001b[0m \u001b[0mhalf\u001b[0m\u001b[0;34m\u001b[0m\u001b[0m\n\u001b[0m\u001b[1;32m     17\u001b[0m \u001b[0;34m\u001b[0m\u001b[0m\n\u001b[1;32m     18\u001b[0m \u001b[0;34m\u001b[0m\u001b[0m\n",
      "\u001b[0;31mKeyboardInterrupt\u001b[0m: "
     ]
    }
   ],
   "source": [
    "pb = FloatProgress(min=0, max=(n_data//batchsize)*n_epochs)\n",
    "display(pb)\n",
    "\n",
    "errors = []\n",
    "for epoch in range(1, n_epochs + 1):\n",
    "    shuffle_idx = np.random.permutation(np.arange(n_data))\n",
    "    for i in range(0, n_data, batchsize):\n",
    "        batch_idx = shuffle_idx[i:i+batchsize if i+batchsize < n_data else n_data]\n",
    "        x_batch = [idset[idx] for idx in batch_idx]\n",
    "        y_batch = feats[batch_idx]\n",
    "        x_batch, y_batch = batchsort(x_batch, y_batch)\n",
    "        \n",
    "        model.reset_state()\n",
    "        loss = F.mean_squared_error(model(x_batch), y_batch)\n",
    "        \n",
    "        model.cleargrads()\n",
    "        loss.backward()\n",
    "        optimizer.update()\n",
    "        \n",
    "        errors.append(loss.data)\n",
    "        pb.value += 1\n",
    "        \n",
    "    print(\"epoch {}: loss = {}\".format(epoch, loss.data))\n",
    "    \n",
    "    if epoch % save_cycle == 0:\n",
    "        model_fp = os.path.join(save_dir, model_name.format(epoch))\n",
    "        optim_fp = os.path.join(save_dir, optim_name.format(epoch))\n",
    "        serializers.save_npz(model_fp, model)\n",
    "        serializers.save_npz(optim_fp, optimizer)\n",
    "        print('save model and optimizer: {}, {}'.format(model_fp, optim_fp))"
   ]
  },
  {
   "cell_type": "code",
   "execution_count": 10,
   "metadata": {
    "collapsed": false,
    "scrolled": true
   },
   "outputs": [
    {
     "data": {
      "text/plain": [
       "[<matplotlib.lines.Line2D at 0x7f7977079da0>]"
      ]
     },
     "execution_count": 10,
     "metadata": {},
     "output_type": "execute_result"
    },
    {
     "data": {
      "image/png": "[encoded data removed]",
      "text/plain": [
       "<matplotlib.figure.Figure at 0x7f79773d4a58>"
      ]
     },
     "metadata": {},
     "output_type": "display_data"
    }
   ],
   "source": [
    "plt.plot(errors)"
   ]
  },
  {
   "cell_type": "markdown",
   "metadata": {},
   "source": [
    "# Older-Embeddings of images and language"
   ]
  },
  {
   "cell_type": "code",
   "execution_count": 29,
   "metadata": {
    "collapsed": true
   },
   "outputs": [],
   "source": [
    "class AbsLSTMEmbed(Chain):\n",
    "    def __init__(self, in_size, out_size, train=True):\n",
    "        super().__init__(\n",
    "            embed=L.EmbedID(in_size, 300),\n",
    "            lstm=L.LSTM(300, 300),\n",
    "            out=L.Linear(300, out_size)\n",
    "        )\n",
    "        self.train = train\n",
    "    \n",
    "    def __call__(self, x):\n",
    "        x = F.transpose_sequence(x)\n",
    "        for x_ in x:\n",
    "            self.lstm(F.dropout(self.embed(x_), train=self.train))\n",
    "        h = self.out(F.dropout(self.lstm.h, train=self.train))\n",
    "        return F.absolute(h)\n",
    "    \n",
    "    def reset_state(self):\n",
    "        self.lstm.reset_state()"
   ]
  },
  {
   "cell_type": "code",
   "execution_count": 31,
   "metadata": {
    "collapsed": true
   },
   "outputs": [],
   "source": [
    "class CNNOut(Chain):\n",
    "    def __init__(self, in_size, out_size):\n",
    "        super().__init__(\n",
    "            linear=L.Linear(in_size, out_size)\n",
    "        )\n",
    "    \n",
    "    def __call__(self, x):\n",
    "        return F.absolute(self.linear(x))"
   ]
  },
  {
   "cell_type": "code",
   "execution_count": null,
   "metadata": {
    "collapsed": true
   },
   "outputs": [],
   "source": [
    "def score(x, y):\n",
    "    return -F.batch_l2_norm_squared(F.relu(y - x))\n",
    "\n",
    "def lossfun(c, )"
   ]
  },
  {
   "cell_type": "markdown",
   "metadata": {},
   "source": [
    "# Dimension reduction using DAE\n",
    "- Reduce #dimensions of feature space using Denoising Autoencoder(DAE)."
   ]
  },
  {
   "cell_type": "markdown",
   "metadata": {},
   "source": [
    "## DAE"
   ]
  },
  {
   "cell_type": "code",
   "execution_count": 27,
   "metadata": {
    "collapsed": true
   },
   "outputs": [],
   "source": [
    "class DAE(Chain):\n",
    "    def __init__(self, in_size, mid_size):\n",
    "        super().__init__(\n",
    "            encoder=L.Linear(in_size, mid_size),\n",
    "            decoder=L.Linear(mid_size, in_size)\n",
    "        )\n",
    "    \n",
    "    def __call__(self, x):\n",
    "        # add gaussian noise\n",
    "        eps = np.random.randn(x.size).reshape(x.shape)\n",
    "        x += eps\n",
    "        \n",
    "        h = F.sigmoid(self.encoder(x))\n",
    "        h = self.decoder(h)\n",
    "        return h"
   ]
  },
  {
   "cell_type": "code",
   "execution_count": 28,
   "metadata": {
    "collapsed": false
   },
   "outputs": [
    {
     "data": {
      "text/plain": [
       "(2, 4096)"
      ]
     },
     "execution_count": 28,
     "metadata": {},
     "output_type": "execute_result"
    }
   ],
   "source": [
    "dae = DAE(feats.shape[1], 512)\n",
    "y = dae(feats[:2])\n",
    "y.shape"
   ]
  },
  {
   "cell_type": "markdown",
   "metadata": {},
   "source": [
    "## Train DAE"
   ]
  },
  {
   "cell_type": "markdown",
   "metadata": {},
   "source": [
    "### Setup"
   ]
  },
  {
   "cell_type": "code",
   "execution_count": 29,
   "metadata": {
    "collapsed": true
   },
   "outputs": [],
   "source": [
    "n_feats, in_size = feats_.shape\n",
    "mid_size = 512\n",
    "\n",
    "n_epochs = 200\n",
    "batchsize = 100\n",
    "\n",
    "save_cycle = 10\n",
    "save_dir = './model/dae_512/'\n",
    "model_name = 'dae_{}epoch.npz'\n",
    "optim_name = 'dae_{}epoch.npz'"
   ]
  },
  {
   "cell_type": "code",
   "execution_count": 30,
   "metadata": {
    "collapsed": true
   },
   "outputs": [],
   "source": [
    "dae = DAE(in_size, mid_size)\n",
    "optimizer = optimizers.Adam()\n",
    "optimizer.setup(dae)"
   ]
  },
  {
   "cell_type": "markdown",
   "metadata": {},
   "source": [
    "### Train"
   ]
  },
  {
   "cell_type": "code",
   "execution_count": 32,
   "metadata": {
    "collapsed": true
   },
   "outputs": [
    {
     "name": "stdout",
     "output_type": "stream",
     "text": [
      "epoch 1: loss = 1.8921667337417603\n",
      "epoch 2: loss = 1.6493866443634033\n",
      "epoch 3: loss = 1.6100345849990845\n",
      "epoch 4: loss = 1.5268738269805908\n",
      "epoch 5: loss = 1.461970329284668\n",
      "epoch 6: loss = 1.451326847076416\n",
      "epoch 7: loss = 1.4093059301376343\n",
      "epoch 8: loss = 1.3982040882110596\n",
      "epoch 9: loss = 1.386332392692566\n",
      "epoch 10: loss = 1.349475383758545\n",
      "save model and optimizer: ./model/dae_512/dae_10epoch.npz, ./model/dae_512/dae_10epoch.npz\n",
      "epoch 11: loss = 1.3274803161621094\n",
      "epoch 12: loss = 1.350356101989746\n",
      "epoch 13: loss = 1.32452392578125\n",
      "epoch 14: loss = 1.2792998552322388\n",
      "epoch 15: loss = 1.3295130729675293\n",
      "epoch 16: loss = 1.306878924369812\n",
      "epoch 17: loss = 1.2838226556777954\n",
      "epoch 18: loss = 1.291928768157959\n",
      "epoch 19: loss = 1.2678831815719604\n",
      "epoch 20: loss = 1.251905083656311\n",
      "save model and optimizer: ./model/dae_512/dae_20epoch.npz, ./model/dae_512/dae_20epoch.npz\n",
      "epoch 21: loss = 1.2486430406570435\n",
      "epoch 22: loss = 1.2438158988952637\n",
      "epoch 23: loss = 1.2417033910751343\n",
      "epoch 24: loss = 1.2398227453231812\n",
      "epoch 25: loss = 1.2411775588989258\n",
      "epoch 26: loss = 1.26339590549469\n",
      "epoch 27: loss = 1.2308552265167236\n",
      "epoch 28: loss = 1.2303062677383423\n",
      "epoch 29: loss = 1.2587873935699463\n",
      "epoch 30: loss = 1.2158852815628052\n",
      "save model and optimizer: ./model/dae_512/dae_30epoch.npz, ./model/dae_512/dae_30epoch.npz\n",
      "epoch 31: loss = 1.2125972509384155\n",
      "epoch 32: loss = 1.2208163738250732\n",
      "epoch 33: loss = 1.2143943309783936\n",
      "epoch 34: loss = 1.2240171432495117\n",
      "epoch 35: loss = 1.2122153043746948\n",
      "epoch 36: loss = 1.2176120281219482\n",
      "epoch 37: loss = 1.20949125289917\n",
      "epoch 38: loss = 1.221203327178955\n",
      "epoch 39: loss = 1.1959164142608643\n",
      "epoch 40: loss = 1.2012892961502075\n",
      "save model and optimizer: ./model/dae_512/dae_40epoch.npz, ./model/dae_512/dae_40epoch.npz\n",
      "epoch 41: loss = 1.2121440172195435\n",
      "epoch 42: loss = 1.2181168794631958\n",
      "epoch 43: loss = 1.1947728395462036\n",
      "epoch 44: loss = 1.1960780620574951\n",
      "epoch 45: loss = 1.2077248096466064\n",
      "epoch 46: loss = 1.196212649345398\n",
      "epoch 47: loss = 1.1932470798492432\n",
      "epoch 48: loss = 1.1838140487670898\n",
      "epoch 49: loss = 1.190476894378662\n",
      "epoch 50: loss = 1.187802791595459\n",
      "save model and optimizer: ./model/dae_512/dae_50epoch.npz, ./model/dae_512/dae_50epoch.npz\n",
      "epoch 51: loss = 1.192578911781311\n",
      "epoch 52: loss = 1.179013967514038\n",
      "epoch 53: loss = 1.1912128925323486\n",
      "epoch 54: loss = 1.186335802078247\n",
      "epoch 55: loss = 1.1861861944198608\n",
      "epoch 56: loss = 1.1833029985427856\n",
      "epoch 57: loss = 1.1824380159378052\n",
      "epoch 58: loss = 1.179001808166504\n",
      "epoch 59: loss = 1.1858197450637817\n",
      "epoch 60: loss = 1.1833620071411133\n",
      "save model and optimizer: ./model/dae_512/dae_60epoch.npz, ./model/dae_512/dae_60epoch.npz\n",
      "epoch 61: loss = 1.1833564043045044\n",
      "epoch 62: loss = 1.173998236656189\n",
      "epoch 63: loss = 1.1625901460647583\n",
      "epoch 64: loss = 1.184709072113037\n",
      "epoch 65: loss = 1.1696351766586304\n",
      "epoch 66: loss = 1.1703786849975586\n",
      "epoch 67: loss = 1.1734811067581177\n",
      "epoch 68: loss = 1.1669172048568726\n",
      "epoch 69: loss = 1.1631135940551758\n",
      "epoch 70: loss = 1.167100429534912\n",
      "save model and optimizer: ./model/dae_512/dae_70epoch.npz, ./model/dae_512/dae_70epoch.npz\n",
      "epoch 71: loss = 1.168135643005371\n",
      "epoch 72: loss = 1.1572374105453491\n",
      "epoch 73: loss = 1.1647919416427612\n",
      "epoch 74: loss = 1.1657054424285889\n",
      "epoch 75: loss = 1.167262077331543\n",
      "epoch 76: loss = 1.1684576272964478\n",
      "epoch 77: loss = 1.1588982343673706\n",
      "epoch 78: loss = 1.1661566495895386\n",
      "epoch 79: loss = 1.164177656173706\n",
      "epoch 80: loss = 1.1628116369247437\n",
      "save model and optimizer: ./model/dae_512/dae_80epoch.npz, ./model/dae_512/dae_80epoch.npz\n",
      "epoch 81: loss = 1.1697953939437866\n",
      "epoch 82: loss = 1.1756181716918945\n",
      "epoch 83: loss = 1.1651195287704468\n",
      "epoch 84: loss = 1.163275122642517\n",
      "epoch 85: loss = 1.1590609550476074\n",
      "epoch 86: loss = 1.1588882207870483\n",
      "epoch 87: loss = 1.167745590209961\n",
      "epoch 88: loss = 1.1512173414230347\n",
      "epoch 89: loss = 1.16305673122406\n",
      "epoch 90: loss = 1.1590964794158936\n",
      "save model and optimizer: ./model/dae_512/dae_90epoch.npz, ./model/dae_512/dae_90epoch.npz\n",
      "epoch 91: loss = 1.1503379344940186\n",
      "epoch 92: loss = 1.1590794324874878\n",
      "epoch 93: loss = 1.1687411069869995\n",
      "epoch 94: loss = 1.1507747173309326\n",
      "epoch 95: loss = 1.1531447172164917\n",
      "epoch 96: loss = 1.1571165323257446\n",
      "epoch 97: loss = 1.1565675735473633\n",
      "epoch 98: loss = 1.1573070287704468\n",
      "epoch 99: loss = 1.1554430723190308\n",
      "epoch 100: loss = 1.1533710956573486\n",
      "save model and optimizer: ./model/dae_512/dae_100epoch.npz, ./model/dae_512/dae_100epoch.npz\n",
      "epoch 101: loss = 1.162290334701538\n",
      "epoch 102: loss = 1.1513808965682983\n",
      "epoch 103: loss = 1.1619759798049927\n",
      "epoch 104: loss = 1.1441550254821777\n",
      "epoch 105: loss = 1.15665602684021\n",
      "epoch 106: loss = 1.1567610502243042\n",
      "epoch 107: loss = 1.1467456817626953\n",
      "epoch 108: loss = 1.154773235321045\n",
      "epoch 109: loss = 1.1508938074111938\n",
      "epoch 110: loss = 1.1496870517730713\n",
      "save model and optimizer: ./model/dae_512/dae_110epoch.npz, ./model/dae_512/dae_110epoch.npz\n",
      "epoch 111: loss = 1.1430268287658691\n",
      "epoch 112: loss = 1.1577754020690918\n",
      "epoch 113: loss = 1.1467666625976562\n",
      "epoch 114: loss = 1.156480073928833\n",
      "epoch 115: loss = 1.1580626964569092\n",
      "epoch 116: loss = 1.1541717052459717\n",
      "epoch 117: loss = 1.1555331945419312\n",
      "epoch 118: loss = 1.1379175186157227\n",
      "epoch 119: loss = 1.1428611278533936\n",
      "epoch 120: loss = 1.1507548093795776\n",
      "save model and optimizer: ./model/dae_512/dae_120epoch.npz, ./model/dae_512/dae_120epoch.npz\n",
      "epoch 121: loss = 1.1501044034957886\n",
      "epoch 122: loss = 1.1544965505599976\n",
      "epoch 123: loss = 1.149975299835205\n",
      "epoch 124: loss = 1.158087134361267\n",
      "epoch 125: loss = 1.1434800624847412\n",
      "epoch 126: loss = 1.1473575830459595\n",
      "epoch 127: loss = 1.1473686695098877\n",
      "epoch 128: loss = 1.1566896438598633\n",
      "epoch 129: loss = 1.1519262790679932\n",
      "epoch 130: loss = 1.144715666770935\n",
      "save model and optimizer: ./model/dae_512/dae_130epoch.npz, ./model/dae_512/dae_130epoch.npz\n",
      "epoch 131: loss = 1.1414659023284912\n",
      "epoch 132: loss = 1.142906904220581\n",
      "epoch 133: loss = 1.1490896940231323\n",
      "epoch 134: loss = 1.1510754823684692\n",
      "epoch 135: loss = 1.1464823484420776\n",
      "epoch 136: loss = 1.145945429801941\n",
      "epoch 137: loss = 1.1387906074523926\n",
      "epoch 138: loss = 1.1431480646133423\n",
      "epoch 139: loss = 1.1437395811080933\n",
      "epoch 140: loss = 1.1422770023345947\n",
      "save model and optimizer: ./model/dae_512/dae_140epoch.npz, ./model/dae_512/dae_140epoch.npz\n",
      "epoch 141: loss = 1.1416740417480469\n",
      "epoch 142: loss = 1.1444085836410522\n",
      "epoch 143: loss = 1.1448619365692139\n",
      "epoch 144: loss = 1.1445434093475342\n",
      "epoch 145: loss = 1.135093331336975\n",
      "epoch 146: loss = 1.1385109424591064\n",
      "epoch 147: loss = 1.1480531692504883\n",
      "epoch 148: loss = 1.140915870666504\n",
      "epoch 149: loss = 1.1341891288757324\n",
      "epoch 150: loss = 1.142041802406311\n",
      "save model and optimizer: ./model/dae_512/dae_150epoch.npz, ./model/dae_512/dae_150epoch.npz\n",
      "epoch 151: loss = 1.1361140012741089\n",
      "epoch 152: loss = 1.1363744735717773\n",
      "epoch 153: loss = 1.1471877098083496\n",
      "epoch 154: loss = 1.1382778882980347\n",
      "epoch 155: loss = 1.1374047994613647\n",
      "epoch 156: loss = 1.1420739889144897\n",
      "epoch 157: loss = 1.1370543241500854\n",
      "epoch 158: loss = 1.1367552280426025\n",
      "epoch 159: loss = 1.14130437374115\n",
      "epoch 160: loss = 1.1308097839355469\n",
      "save model and optimizer: ./model/dae_512/dae_160epoch.npz, ./model/dae_512/dae_160epoch.npz\n",
      "epoch 161: loss = 1.1440712213516235\n",
      "epoch 162: loss = 1.142128348350525\n",
      "epoch 163: loss = 1.1452745199203491\n",
      "epoch 164: loss = 1.1395535469055176\n",
      "epoch 165: loss = 1.1411348581314087\n",
      "epoch 166: loss = 1.1227046251296997\n",
      "epoch 167: loss = 1.1400423049926758\n",
      "epoch 168: loss = 1.1409581899642944\n",
      "epoch 169: loss = 1.1427466869354248\n",
      "epoch 170: loss = 1.142266869544983\n",
      "save model and optimizer: ./model/dae_512/dae_170epoch.npz, ./model/dae_512/dae_170epoch.npz\n",
      "epoch 171: loss = 1.1394537687301636\n",
      "epoch 172: loss = 1.1491148471832275\n",
      "epoch 173: loss = 1.1333091259002686\n",
      "epoch 174: loss = 1.1388806104660034\n",
      "epoch 175: loss = 1.1410313844680786\n",
      "epoch 176: loss = 1.134005069732666\n",
      "epoch 177: loss = 1.1316189765930176\n",
      "epoch 178: loss = 1.1425832509994507\n",
      "epoch 179: loss = 1.1360979080200195\n",
      "epoch 180: loss = 1.140037178993225\n",
      "save model and optimizer: ./model/dae_512/dae_180epoch.npz, ./model/dae_512/dae_180epoch.npz\n",
      "epoch 181: loss = 1.1346862316131592\n",
      "epoch 182: loss = 1.139345645904541\n",
      "epoch 183: loss = 1.1354458332061768\n",
      "epoch 184: loss = 1.1369127035140991\n",
      "epoch 185: loss = 1.1328973770141602\n",
      "epoch 186: loss = 1.1420210599899292\n",
      "epoch 187: loss = 1.1419416666030884\n",
      "epoch 188: loss = 1.1395286321640015\n",
      "epoch 189: loss = 1.13495934009552\n",
      "epoch 190: loss = 1.1369194984436035\n",
      "save model and optimizer: ./model/dae_512/dae_190epoch.npz, ./model/dae_512/dae_190epoch.npz\n",
      "epoch 191: loss = 1.1260513067245483\n",
      "epoch 192: loss = 1.132287859916687\n",
      "epoch 193: loss = 1.1323102712631226\n",
      "epoch 194: loss = 1.138085126876831\n",
      "epoch 195: loss = 1.1434597969055176\n",
      "epoch 196: loss = 1.1391656398773193\n",
      "epoch 197: loss = 1.1294832229614258\n",
      "epoch 198: loss = 1.1330912113189697\n",
      "epoch 199: loss = 1.136756420135498\n",
      "epoch 200: loss = 1.1430212259292603\n",
      "save model and optimizer: ./model/dae_512/dae_200epoch.npz, ./model/dae_512/dae_200epoch.npz\n"
     ]
    }
   ],
   "source": [
    "fp = FloatProgress(min=0, max=(n_feats//batchsize)*n_epochs)\n",
    "display(fp)\n",
    "\n",
    "errors = []\n",
    "for epoch in range(1, n_epochs + 1):\n",
    "    shuffle_idx = np.random.permutation(np.arange(n_feats))\n",
    "    for i in range(0, n_feats, batchsize):\n",
    "        batch_idx = shuffle_idx[i:i+batchsize if i+batchsize < n_feats else n_feats]\n",
    "        x_batch = feats[batch_idx]\n",
    "\n",
    "        loss = F.mean_squared_error(dae(x_batch), x_batch)\n",
    "        \n",
    "        dae.cleargrads()\n",
    "        loss.backward()\n",
    "        optimizer.update()\n",
    "        \n",
    "        errors.append(loss.data)\n",
    "        fp.value += 1\n",
    "    \n",
    "    print(\"epoch {}: loss = {}\".format(epoch, loss.data))\n",
    "    \n",
    "    if epoch % save_cycle == 0:\n",
    "        model_fp = save_dir + model_name.format(epoch)\n",
    "        optim_fp = save_dir + optim_name.format(epoch)\n",
    "        serializers.save_npz(model_fp, model)\n",
    "        serializers.save_npz(optim_fp, optimizer)\n",
    "        print('save model and optimizer: {}, {}'.format(model_fp, optim_fp))"
   ]
  },
  {
   "cell_type": "code",
   "execution_count": 33,
   "metadata": {
    "collapsed": false
   },
   "outputs": [
    {
     "data": {
      "text/plain": [
       "[<matplotlib.lines.Line2D at 0x7fbe603adf28>]"
      ]
     },
     "execution_count": 33,
     "metadata": {},
     "output_type": "execute_result"
    },
    {
     "data": {
      "image/png": "[encoded data removed]",
      "text/plain": [
       "<matplotlib.figure.Figure at 0x7fbe5fcc9240>"
      ]
     },
     "metadata": {},
     "output_type": "display_data"
    }
   ],
   "source": [
    "plt.plot(errors)"
   ]
  },
  {
   "cell_type": "markdown",
   "metadata": {},
   "source": [
    "### Evatuate"
   ]
  },
  {
   "cell_type": "code",
   "execution_count": null,
   "metadata": {
    "collapsed": true
   },
   "outputs": [],
   "source": []
  }
 ],
 "metadata": {
  "kernelspec": {
   "display_name": "Python 3",
   "language": "python",
   "name": "python3"
  },
  "language_info": {
   "codemirror_mode": {
    "name": "ipython",
    "version": 3
   },
   "file_extension": ".py",
   "mimetype": "text/x-python",
   "name": "python",
   "nbconvert_exporter": "python",
   "pygments_lexer": "ipython3",
   "version": "3.6.0"
  },
  "latex_envs": {
   "LaTeX_envs_menu_present": true,
   "bibliofile": "biblio.bib",
   "cite_by": "apalike",
   "current_citInitial": 1,
   "eqLabelWithNumbers": true,
   "eqNumInitial": 1,
   "hotkeys": {
    "equation": "Ctrl-E",
    "itemize": "Ctrl-I"
   },
   "labels_anchors": false,
   "latex_user_defs": false,
   "report_style_numbering": false,
   "user_envs_cfg": false
  },
  "toc": {
   "colors": {
    "hover_highlight": "#DAA520",
    "running_highlight": "#FF0000",
    "selected_highlight": "#FFD700"
   },
   "moveMenuLeft": true,
   "nav_menu": {
    "height": "138px",
    "width": "252px"
   },
   "navigate_menu": true,
   "number_sections": true,
   "sideBar": true,
   "threshold": 4,
   "toc_cell": false,
   "toc_position": {
    "height": "865px",
    "left": "0px",
    "right": "1658px",
    "top": "106px",
    "width": "228px"
   },
   "toc_section_display": "block",
   "toc_window_display": true
  }
 },
 "nbformat": 4,
 "nbformat_minor": 2
}
